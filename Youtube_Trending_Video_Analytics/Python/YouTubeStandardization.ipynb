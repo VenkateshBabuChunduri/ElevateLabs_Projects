{
 "cells": [
  {
   "cell_type": "markdown",
   "id": "cf19c2f5-84ae-4785-8a7b-46de993297ae",
   "metadata": {},
   "source": [
    "### Clean and standardize YouTube trending datasets from different countries"
   ]
  },
  {
   "cell_type": "markdown",
   "id": "cdb0c97e-eb22-4d98-b3d2-cc43a064f8cc",
   "metadata": {},
   "source": [
    "## Load & Inspect Dataset:Global_YouTube_Statistics"
   ]
  },
  {
   "cell_type": "code",
   "execution_count": 3,
   "id": "4c3b62be-a476-4cec-a0c3-4a92815000ae",
   "metadata": {
    "scrolled": true
   },
   "outputs": [
    {
     "name": "stdout",
     "output_type": "stream",
     "text": [
      "   rank                    Youtuber  subscribers   video views  \\\n",
      "0     1                    T-Series    245000000  2.280000e+11   \n",
      "1     2              YouTube Movies    170000000  0.000000e+00   \n",
      "2     3                     MrBeast    166000000  2.836884e+10   \n",
      "3     4  Cocomelon - Nursery Rhymes    162000000  1.640000e+11   \n",
      "4     5                   SET India    159000000  1.480000e+11   \n",
      "\n",
      "           category                       Title  uploads        Country  \\\n",
      "0             Music                    T-Series    20082          India   \n",
      "1  Film & Animation               youtubemovies        1  United States   \n",
      "2     Entertainment                     MrBeast      741  United States   \n",
      "3         Education  Cocomelon - Nursery Rhymes      966  United States   \n",
      "4             Shows                   SET India   116536          India   \n",
      "\n",
      "  Abbreviation   channel_type  ...  subscribers_for_last_30_days  \\\n",
      "0           IN          Music  ...                     2000000.0   \n",
      "1           US          Games  ...                           NaN   \n",
      "2           US  Entertainment  ...                     8000000.0   \n",
      "3           US      Education  ...                     1000000.0   \n",
      "4           IN  Entertainment  ...                     1000000.0   \n",
      "\n",
      "   created_year  created_month  created_date  \\\n",
      "0        2006.0            Mar          13.0   \n",
      "1        2006.0            Mar           5.0   \n",
      "2        2012.0            Feb          20.0   \n",
      "3        2006.0            Sep           1.0   \n",
      "4        2006.0            Sep          20.0   \n",
      "\n",
      "   Gross tertiary education enrollment (%)    Population  Unemployment rate  \\\n",
      "0                                     28.1  1.366418e+09               5.36   \n",
      "1                                     88.2  3.282395e+08              14.70   \n",
      "2                                     88.2  3.282395e+08              14.70   \n",
      "3                                     88.2  3.282395e+08              14.70   \n",
      "4                                     28.1  1.366418e+09               5.36   \n",
      "\n",
      "   Urban_population   Latitude  Longitude  \n",
      "0       471031528.0  20.593684  78.962880  \n",
      "1       270663028.0  37.090240 -95.712891  \n",
      "2       270663028.0  37.090240 -95.712891  \n",
      "3       270663028.0  37.090240 -95.712891  \n",
      "4       471031528.0  20.593684  78.962880  \n",
      "\n",
      "[5 rows x 28 columns]\n",
      "<class 'pandas.core.frame.DataFrame'>\n",
      "RangeIndex: 995 entries, 0 to 994\n",
      "Data columns (total 28 columns):\n",
      " #   Column                                   Non-Null Count  Dtype  \n",
      "---  ------                                   --------------  -----  \n",
      " 0   rank                                     995 non-null    int64  \n",
      " 1   Youtuber                                 995 non-null    object \n",
      " 2   subscribers                              995 non-null    int64  \n",
      " 3   video views                              995 non-null    float64\n",
      " 4   category                                 949 non-null    object \n",
      " 5   Title                                    995 non-null    object \n",
      " 6   uploads                                  995 non-null    int64  \n",
      " 7   Country                                  873 non-null    object \n",
      " 8   Abbreviation                             873 non-null    object \n",
      " 9   channel_type                             965 non-null    object \n",
      " 10  video_views_rank                         994 non-null    float64\n",
      " 11  country_rank                             879 non-null    float64\n",
      " 12  channel_type_rank                        962 non-null    float64\n",
      " 13  video_views_for_the_last_30_days         939 non-null    float64\n",
      " 14  lowest_monthly_earnings                  995 non-null    float64\n",
      " 15  highest_monthly_earnings                 995 non-null    float64\n",
      " 16  lowest_yearly_earnings                   995 non-null    float64\n",
      " 17  highest_yearly_earnings                  995 non-null    float64\n",
      " 18  subscribers_for_last_30_days             658 non-null    float64\n",
      " 19  created_year                             990 non-null    float64\n",
      " 20  created_month                            990 non-null    object \n",
      " 21  created_date                             990 non-null    float64\n",
      " 22  Gross tertiary education enrollment (%)  872 non-null    float64\n",
      " 23  Population                               872 non-null    float64\n",
      " 24  Unemployment rate                        872 non-null    float64\n",
      " 25  Urban_population                         872 non-null    float64\n",
      " 26  Latitude                                 872 non-null    float64\n",
      " 27  Longitude                                872 non-null    float64\n",
      "dtypes: float64(18), int64(3), object(7)\n",
      "memory usage: 217.8+ KB\n",
      "None\n",
      "rank                                         0\n",
      "Youtuber                                     0\n",
      "subscribers                                  0\n",
      "video views                                  0\n",
      "category                                    46\n",
      "Title                                        0\n",
      "uploads                                      0\n",
      "Country                                    122\n",
      "Abbreviation                               122\n",
      "channel_type                                30\n",
      "video_views_rank                             1\n",
      "country_rank                               116\n",
      "channel_type_rank                           33\n",
      "video_views_for_the_last_30_days            56\n",
      "lowest_monthly_earnings                      0\n",
      "highest_monthly_earnings                     0\n",
      "lowest_yearly_earnings                       0\n",
      "highest_yearly_earnings                      0\n",
      "subscribers_for_last_30_days               337\n",
      "created_year                                 5\n",
      "created_month                                5\n",
      "created_date                                 5\n",
      "Gross tertiary education enrollment (%)    123\n",
      "Population                                 123\n",
      "Unemployment rate                          123\n",
      "Urban_population                           123\n",
      "Latitude                                   123\n",
      "Longitude                                  123\n",
      "dtype: int64\n"
     ]
    }
   ],
   "source": [
    "import pandas as pd  \n",
    "\n",
    "# Load the Global YouTube Statistics dataset\n",
    "df = pd.read_csv(r\"C:\\Users\\91961\\Downloads\\Global_YouTube_Statistics.csv\", encoding=\"latin1\")\n",
    "\n",
    "# Show column names & first few rows\n",
    "print(df.head())  \n",
    "print(df.info())  \n",
    "\n",
    "# Check for missing values\n",
    "print(df.isnull().sum())  "
   ]
  },
  {
   "cell_type": "markdown",
   "id": "7ffab629-872f-469e-b266-7e7b413ff47b",
   "metadata": {},
   "source": [
    "### 🔍 Observations from the Dataset\n",
    "✔ Country and Abbreviation have 122 missing values, which need filling or standardization.\n",
    "✔ category has 46 missing values, which we’ll handle appropriately.\n",
    "✔ created_date is stored as float, so we need to convert it to a proper date format.\n",
    "✔ Several columns like subscribers_for_last_30_days, video_views_for_the_last_30_days, Population, and Urban_population also have missing values."
   ]
  },
  {
   "cell_type": "markdown",
   "id": "c808c9d9-9899-4568-a51c-8ca88c3a2963",
   "metadata": {},
   "source": [
    "### Cleaning & Standardizing Country Names\n",
    "## Fill Missing Country Names Using Abbreviations\n",
    "# Some missing countries might have valid Abbreviation, so we can fill those gaps:"
   ]
  },
  {
   "cell_type": "code",
   "execution_count": 9,
   "id": "533644d1-642c-4385-8387-d9f17264c85e",
   "metadata": {},
   "outputs": [],
   "source": [
    "df.loc[df[\"Country\"].isnull(), \"Country\"] = df[\"Abbreviation\"]"
   ]
  },
  {
   "cell_type": "markdown",
   "id": "62310ab1-00a9-469a-95a3-a7b73801461f",
   "metadata": {},
   "source": [
    "### Identify Which Countries Are Still Missing\n",
    "Run this code to check which rows still have missing country names"
   ]
  },
  {
   "cell_type": "code",
   "execution_count": 11,
   "id": "dca6c07f-1e3c-44d2-b3f9-628275f30205",
   "metadata": {},
   "outputs": [
    {
     "name": "stdout",
     "output_type": "stream",
     "text": [
      "122\n"
     ]
    }
   ],
   "source": [
    "print(df[\"Country\"].isnull().sum())\n"
   ]
  },
  {
   "cell_type": "code",
   "execution_count": 13,
   "id": "442e0053-e0d2-4eeb-8d17-b60c64284deb",
   "metadata": {},
   "outputs": [
    {
     "name": "stdout",
     "output_type": "stream",
     "text": [
      "     rank                                           Youtuber  subscribers  \\\n",
      "5       6                                              Music    119000000   \n",
      "12     13                                             Gaming     93600000   \n",
      "14     15                                          Goldmines     86900000   \n",
      "38     39  LooLoo Kids - Nursery Rhymes and Children's Songs     54000000   \n",
      "48     49                                            Badabun     46800000   \n",
      "..    ...                                                ...          ...   \n",
      "958   959                                     Troom Troom PT     12500000   \n",
      "967   968                              Troom Troom Indonesia     12500000   \n",
      "972   973                                   Hero Movies 2023     12400000   \n",
      "985   986                                               TKOR     12400000   \n",
      "986   987                                          ANNA KOVA     12400000   \n",
      "\n",
      "      video views          category  \\\n",
      "5    0.000000e+00               NaN   \n",
      "12   0.000000e+00               NaN   \n",
      "14   2.411823e+10  Film & Animation   \n",
      "38   3.231243e+10             Music   \n",
      "48   1.939805e+10     Entertainment   \n",
      "..            ...               ...   \n",
      "958  4.384178e+09     Howto & Style   \n",
      "967  5.379684e+09    People & Blogs   \n",
      "972  1.689091e+09    People & Blogs   \n",
      "985  3.392023e+09         Education   \n",
      "986  1.395959e+10    People & Blogs   \n",
      "\n",
      "                                               Title  uploads Country  \\\n",
      "5                                              Music        0     NaN   \n",
      "12                                            Gaming        0     NaN   \n",
      "14                                         goldmines        1     NaN   \n",
      "38   LooLoo Kids - Nursery Rhymes and Children's ï¿½       11     NaN   \n",
      "48                                           badabun        1     NaN   \n",
      "..                                               ...      ...     ...   \n",
      "958                                   Troom Troom PT     2738     NaN   \n",
      "967                            TROOM TROOM INDONESIA        8     NaN   \n",
      "972                                 Hero Movies 2023      689     NaN   \n",
      "985                                             TKoR        0     NaN   \n",
      "986                                         annakova        1     NaN   \n",
      "\n",
      "    Abbreviation channel_type  ...  subscribers_for_last_30_days  \\\n",
      "5            NaN        Music  ...                           NaN   \n",
      "12           NaN        Games  ...                           NaN   \n",
      "14           NaN        Music  ...                           NaN   \n",
      "38           NaN          NaN  ...                           NaN   \n",
      "48           NaN        Music  ...                          75.0   \n",
      "..           ...          ...  ...                           ...   \n",
      "958          NaN        Howto  ...                           NaN   \n",
      "967          NaN       People  ...                           NaN   \n",
      "972          NaN       People  ...                           NaN   \n",
      "985          NaN       People  ...                           NaN   \n",
      "986          NaN         Film  ...                           NaN   \n",
      "\n",
      "     created_year  created_month  created_date  \\\n",
      "5          2013.0            Sep          24.0   \n",
      "12         2013.0            Dec          15.0   \n",
      "14         2006.0            Aug          15.0   \n",
      "38         2016.0            Nov          29.0   \n",
      "48         2007.0            Jul          21.0   \n",
      "..            ...            ...           ...   \n",
      "958        2015.0            Apr          19.0   \n",
      "967        2020.0            Jul          29.0   \n",
      "972        2017.0            Feb          22.0   \n",
      "985        2006.0            Aug          16.0   \n",
      "986        2006.0            Jun          18.0   \n",
      "\n",
      "     Gross tertiary education enrollment (%)  Population  Unemployment rate  \\\n",
      "5                                        NaN         NaN                NaN   \n",
      "12                                       NaN         NaN                NaN   \n",
      "14                                       NaN         NaN                NaN   \n",
      "38                                       NaN         NaN                NaN   \n",
      "48                                       NaN         NaN                NaN   \n",
      "..                                       ...         ...                ...   \n",
      "958                                      NaN         NaN                NaN   \n",
      "967                                      NaN         NaN                NaN   \n",
      "972                                      NaN         NaN                NaN   \n",
      "985                                      NaN         NaN                NaN   \n",
      "986                                      NaN         NaN                NaN   \n",
      "\n",
      "     Urban_population  Latitude  Longitude  \n",
      "5                 NaN       NaN        NaN  \n",
      "12                NaN       NaN        NaN  \n",
      "14                NaN       NaN        NaN  \n",
      "38                NaN       NaN        NaN  \n",
      "48                NaN       NaN        NaN  \n",
      "..                ...       ...        ...  \n",
      "958               NaN       NaN        NaN  \n",
      "967               NaN       NaN        NaN  \n",
      "972               NaN       NaN        NaN  \n",
      "985               NaN       NaN        NaN  \n",
      "986               NaN       NaN        NaN  \n",
      "\n",
      "[122 rows x 28 columns]\n"
     ]
    }
   ],
   "source": [
    "print(df[df[\"Country\"].isnull()])"
   ]
  },
  {
   "cell_type": "code",
   "execution_count": null,
   "id": "c4491aa1-2202-4af4-9a1e-1aa327e96528",
   "metadata": {},
   "outputs": [],
   "source": [
    "Identify Patterns in Missing Country Data\n",
    "From your output, we observe: ✔ Some missing values belong to categories like \"Music\" or \"Gaming.\"\n",
    "✔ Abbreviation is also missing in many cases, meaning we can’t rely on it to fill country names.\n",
    "Let’s first count missing values in the Abbreviation column:"
   ]
  },
  {
   "cell_type": "code",
   "execution_count": 15,
   "id": "97cb1da3-2649-4943-80df-7c57afbf0b7d",
   "metadata": {},
   "outputs": [
    {
     "name": "stdout",
     "output_type": "stream",
     "text": [
      "122\n"
     ]
    }
   ],
   "source": [
    "print(df[\"Abbreviation\"].isnull().sum())"
   ]
  },
  {
   "cell_type": "markdown",
   "id": "927fe94e-576b-454b-a4b9-1736143c0b51",
   "metadata": {},
   "source": [
    "### Assign Country Values Using Known Patterns\n",
    "Since certain YouTubers are well-known in specific countries, we’ll manually map them where possible:"
   ]
  },
  {
   "cell_type": "code",
   "execution_count": 17,
   "id": "39668955-a050-4ebb-8a0d-8d28c43463cf",
   "metadata": {},
   "outputs": [],
   "source": [
    "# Assign country values based on known creators\n",
    "df.loc[df[\"Title\"].str.contains(\"T-Series\", case=False, na=False), \"Country\"] = \"India\"\n",
    "df.loc[df[\"Title\"].str.contains(\"MrBeast\", case=False, na=False), \"Country\"] = \"United States\"\n",
    "df.loc[df[\"Title\"].str.contains(\"SET India\", case=False, na=False), \"Country\"] = \"India\"\n",
    "df.loc[df[\"Title\"].str.contains(\"Gaming\", case=False, na=False), \"Country\"] = \"Various\"\n",
    "df.loc[df[\"Title\"].str.contains(\"Music\", case=False, na=False), \"Country\"] = \"Various\"\n",
    "df.loc[df[\"Title\"].str.contains(\"YouTube Movies\", case=False, na=False), \"Country\"] = \"United States\""
   ]
  },
  {
   "cell_type": "markdown",
   "id": "d11f501b-f947-45c0-b362-22b70b6bc83a",
   "metadata": {},
   "source": [
    "### Assign Unknown for Remaining Missing Values\n",
    "If some rows still don’t have a clear country, we temporarily fill them with \"Unknown\" so we can manually review later:"
   ]
  },
  {
   "cell_type": "code",
   "execution_count": 21,
   "id": "73016ade-61b5-4c4b-9105-52a0062d4bc1",
   "metadata": {},
   "outputs": [],
   "source": [
    "df.loc[df[\"Country\"].isnull(), \"Country\"] = \"Unknown\""
   ]
  },
  {
   "cell_type": "code",
   "execution_count": 23,
   "id": "5314233c-62ce-4841-832f-fb456fdc54af",
   "metadata": {},
   "outputs": [
    {
     "name": "stdout",
     "output_type": "stream",
     "text": [
      "0\n"
     ]
    }
   ],
   "source": [
    "print(df[\"Country\"].isnull().sum())"
   ]
  },
  {
   "cell_type": "markdown",
   "id": "d2f30626-744a-4dd9-a3f9-eb5900f1767f",
   "metadata": {},
   "source": [
    "### all missing country values are handled, your dataset is clean and standardized for country-wise analysis. 🚀"
   ]
  },
  {
   "cell_type": "markdown",
   "id": "a2cd23cd-be3a-4f02-af40-3966f4ec6513",
   "metadata": {},
   "source": [
    " ### Standardizing Category Names\n",
    " ## Since some category values are missing or inconsistent, we’ll ensure proper formatting: \n",
    " 1️⃣ Check for missing categories "
   ]
  },
  {
   "cell_type": "code",
   "execution_count": 25,
   "id": "0d68a19d-7d6c-403f-97b7-286f1ce0d91b",
   "metadata": {},
   "outputs": [
    {
     "name": "stdout",
     "output_type": "stream",
     "text": [
      "46\n"
     ]
    }
   ],
   "source": [
    "print(df[\"category\"].isnull().sum())"
   ]
  },
  {
   "cell_type": "markdown",
   "id": "3234e56e-e37b-4cfb-b9bd-fb9cc440822d",
   "metadata": {},
   "source": [
    "# 2️⃣ Fill missing values with \"Unknown\" or \"Other\" if needed"
   ]
  },
  {
   "cell_type": "code",
   "execution_count": 29,
   "id": "c7911fea-dbf6-4a73-b6a0-ce6b80322027",
   "metadata": {},
   "outputs": [],
   "source": [
    "df.loc[df[\"category\"].isnull(), \"category\"] = \"Unknown\""
   ]
  },
  {
   "cell_type": "code",
   "execution_count": 31,
   "id": "ddc8f542-f979-469e-adbc-93538a8fd39c",
   "metadata": {},
   "outputs": [
    {
     "name": "stdout",
     "output_type": "stream",
     "text": [
      "0\n"
     ]
    }
   ],
   "source": [
    "print(df[\"category\"].isnull().sum())"
   ]
  },
  {
   "cell_type": "markdown",
   "id": "fdb3401a-31cb-4fcd-947f-6677ac25976f",
   "metadata": {},
   "source": [
    "### Standardize capitalization & spacing"
   ]
  },
  {
   "cell_type": "code",
   "execution_count": 34,
   "id": "0846e4be-07a3-4f5e-a757-17a921a97858",
   "metadata": {},
   "outputs": [],
   "source": [
    "df[\"category\"] = df[\"category\"].str.strip().str.title()  # Makes \"music\" → \"Music\""
   ]
  },
  {
   "cell_type": "markdown",
   "id": "0fc430d1-d5e0-4fcf-b34d-6de35a58602e",
   "metadata": {},
   "source": [
    "### Verify changes"
   ]
  },
  {
   "cell_type": "code",
   "execution_count": 36,
   "id": "080a4272-cdb2-46f7-9630-77d287936f4d",
   "metadata": {},
   "outputs": [
    {
     "name": "stdout",
     "output_type": "stream",
     "text": [
      "['Music' 'Film & Animation' 'Entertainment' 'Education' 'Shows' 'Unknown'\n",
      " 'People & Blogs' 'Gaming' 'Sports' 'Howto & Style' 'News & Politics'\n",
      " 'Comedy' 'Trailers' 'Nonprofits & Activism' 'Science & Technology'\n",
      " 'Movies' 'Pets & Animals' 'Autos & Vehicles' 'Travel & Events']\n"
     ]
    }
   ],
   "source": [
    "print(df[\"category\"].unique())  # Check consistency"
   ]
  },
  {
   "cell_type": "markdown",
   "id": "7cc724e1-08fc-423a-a42c-4ddb50f0d50a",
   "metadata": {},
   "source": [
    "### Standardizing Date Formats\n",
    "Since created_date and trending_date are stored as floats, let’s convert them into proper date formats for consistency.\n",
    "## Step 1.1: Convert created_date to DateTime"
   ]
  },
  {
   "cell_type": "code",
   "execution_count": 48,
   "id": "82b7206a-84f3-4c3d-9a1f-ae714ea561ad",
   "metadata": {},
   "outputs": [
    {
     "name": "stdout",
     "output_type": "stream",
     "text": [
      "0    1970-01-01 00:00:00.000000013\n",
      "1    1970-01-01 00:00:00.000000005\n",
      "2    1970-01-01 00:00:00.000000020\n",
      "3    1970-01-01 00:00:00.000000001\n",
      "4    1970-01-01 00:00:00.000000020\n",
      "5    1970-01-01 00:00:00.000000024\n",
      "6    1970-01-01 00:00:00.000000012\n",
      "7    1970-01-01 00:00:00.000000029\n",
      "8    1970-01-01 00:00:00.000000014\n",
      "9    1970-01-01 00:00:00.000000023\n",
      "10   1970-01-01 00:00:00.000000012\n",
      "11   1970-01-01 00:00:00.000000011\n",
      "12   1970-01-01 00:00:00.000000015\n",
      "13   1970-01-01 00:00:00.000000029\n",
      "14   1970-01-01 00:00:00.000000015\n",
      "15   1970-01-01 00:00:00.000000004\n",
      "16   1970-01-01 00:00:00.000000027\n",
      "17   1970-01-01 00:00:00.000000017\n",
      "18   1970-01-01 00:00:00.000000030\n",
      "19   1970-01-01 00:00:00.000000015\n",
      "Name: created_date, dtype: datetime64[ns]\n"
     ]
    }
   ],
   "source": [
    "print(df[\"created_date\"].head(20))  # Check first 20 values"
   ]
  },
  {
   "cell_type": "markdown",
   "id": "1b966863-7e48-4d3d-aad3-b0d39be5c2c6",
   "metadata": {},
   "source": [
    "### This confirms that the original date conversion was incorrect, likely due to the float values being misinterpreted as timestamps, causing them to default to 1970-01-01."
   ]
  },
  {
   "cell_type": "markdown",
   "id": "13eb7c5d-7295-435f-b984-570b5e2c7e89",
   "metadata": {},
   "source": [
    "### Reconstruct created_date Using created_year & created_month\n",
    "### Since we have separate columns for year and month, we can correctly rebuild the date:"
   ]
  },
  {
   "cell_type": "code",
   "execution_count": 52,
   "id": "3a9e6fdd-309c-42e3-9c9a-8e76818a2b2c",
   "metadata": {},
   "outputs": [],
   "source": [
    "df[\"created_date_fixed\"] = pd.to_datetime(\n",
    "    df[\"created_year\"].astype(str) + \"-\" + df[\"created_month\"].astype(str) + \"-01\", \n",
    "    format=\"%Y-%b-%d\",  # Explicitly define format\n",
    "    errors=\"coerce\"\n",
    ")"
   ]
  },
  {
   "cell_type": "markdown",
   "id": "2bf1473b-7329-4bb9-8d96-f6b28524a389",
   "metadata": {},
   "source": [
    "### 🚀 What This Does:\n",
    "✔ Ensures created_year is treated as a 4-digit year (YYYY).\n",
    "✔ created_month is treated as a month abbreviation (Jan, Feb, etc.).\n",
    "✔ Day is set to 01 by default for consistency."
   ]
  },
  {
   "cell_type": "markdown",
   "id": "53b7a3f0-a533-4965-9e74-83d73c53a584",
   "metadata": {},
   "source": [
    "### Verify Correct Date Formatting"
   ]
  },
  {
   "cell_type": "code",
   "execution_count": 54,
   "id": "fd169589-b8b1-4fac-9b79-dc74316ebe55",
   "metadata": {},
   "outputs": [
    {
     "name": "stdout",
     "output_type": "stream",
     "text": [
      "  created_date_fixed\n",
      "0                NaT\n",
      "1                NaT\n",
      "2                NaT\n",
      "3                NaT\n",
      "4                NaT\n",
      "<class 'pandas.core.frame.DataFrame'>\n",
      "RangeIndex: 995 entries, 0 to 994\n",
      "Data columns (total 29 columns):\n",
      " #   Column                                   Non-Null Count  Dtype         \n",
      "---  ------                                   --------------  -----         \n",
      " 0   rank                                     995 non-null    int64         \n",
      " 1   Youtuber                                 995 non-null    object        \n",
      " 2   subscribers                              995 non-null    int64         \n",
      " 3   video views                              995 non-null    float64       \n",
      " 4   category                                 995 non-null    object        \n",
      " 5   Title                                    995 non-null    object        \n",
      " 6   uploads                                  995 non-null    int64         \n",
      " 7   Country                                  995 non-null    object        \n",
      " 8   Abbreviation                             873 non-null    object        \n",
      " 9   channel_type                             965 non-null    object        \n",
      " 10  video_views_rank                         994 non-null    float64       \n",
      " 11  country_rank                             879 non-null    float64       \n",
      " 12  channel_type_rank                        962 non-null    float64       \n",
      " 13  video_views_for_the_last_30_days         939 non-null    float64       \n",
      " 14  lowest_monthly_earnings                  995 non-null    float64       \n",
      " 15  highest_monthly_earnings                 995 non-null    float64       \n",
      " 16  lowest_yearly_earnings                   995 non-null    float64       \n",
      " 17  highest_yearly_earnings                  995 non-null    float64       \n",
      " 18  subscribers_for_last_30_days             658 non-null    float64       \n",
      " 19  created_year                             990 non-null    float64       \n",
      " 20  created_month                            990 non-null    object        \n",
      " 21  created_date                             990 non-null    datetime64[ns]\n",
      " 22  Gross tertiary education enrollment (%)  872 non-null    float64       \n",
      " 23  Population                               872 non-null    float64       \n",
      " 24  Unemployment rate                        872 non-null    float64       \n",
      " 25  Urban_population                         872 non-null    float64       \n",
      " 26  Latitude                                 872 non-null    float64       \n",
      " 27  Longitude                                872 non-null    float64       \n",
      " 28  created_date_fixed                       0 non-null      datetime64[ns]\n",
      "dtypes: datetime64[ns](2), float64(17), int64(3), object(7)\n",
      "memory usage: 225.6+ KB\n",
      "None\n"
     ]
    }
   ],
   "source": [
    "print(df[[\"created_date_fixed\"]].head())\n",
    "print(df.info())  # Ensure created_date_fixed is datetime64[ns]"
   ]
  },
  {
   "cell_type": "code",
   "execution_count": 42,
   "id": "3bd96002-a147-4118-90d4-c2213117a7b9",
   "metadata": {},
   "outputs": [
    {
     "name": "stdout",
     "output_type": "stream",
     "text": [
      "Index(['rank', 'Youtuber', 'subscribers', 'video views', 'category', 'Title',\n",
      "       'uploads', 'Country', 'Abbreviation', 'channel_type',\n",
      "       'video_views_rank', 'country_rank', 'channel_type_rank',\n",
      "       'video_views_for_the_last_30_days', 'lowest_monthly_earnings',\n",
      "       'highest_monthly_earnings', 'lowest_yearly_earnings',\n",
      "       'highest_yearly_earnings', 'subscribers_for_last_30_days',\n",
      "       'created_year', 'created_month', 'created_date',\n",
      "       'Gross tertiary education enrollment (%)', 'Population',\n",
      "       'Unemployment rate', 'Urban_population', 'Latitude', 'Longitude'],\n",
      "      dtype='object')\n"
     ]
    }
   ],
   "source": [
    "print(df.columns)"
   ]
  },
  {
   "cell_type": "markdown",
   "id": "cf908128-6e28-4ddb-afcb-53eec90fb9cc",
   "metadata": {},
   "source": [
    "### Check created_year and created_month Formats"
   ]
  },
  {
   "cell_type": "code",
   "execution_count": 56,
   "id": "24268244-73ce-4f10-8755-02735cc8082e",
   "metadata": {},
   "outputs": [
    {
     "name": "stdout",
     "output_type": "stream",
     "text": [
      "    created_year created_month\n",
      "0         2006.0           Mar\n",
      "1         2006.0           Mar\n",
      "2         2012.0           Feb\n",
      "3         2006.0           Sep\n",
      "4         2006.0           Sep\n",
      "5         2013.0           Sep\n",
      "6         2015.0           May\n",
      "7         2010.0           Apr\n",
      "8         2016.0           Jan\n",
      "9         2018.0           Apr\n",
      "10        2014.0           Mar\n",
      "11        2007.0           May\n",
      "12        2013.0           Dec\n",
      "13        2016.0           Jun\n",
      "14        2006.0           Aug\n",
      "15        2007.0           Aug\n",
      "16        2020.0           Jul\n",
      "17        2012.0           Dec\n",
      "18        2006.0           Jan\n",
      "19        2007.0           Jan\n"
     ]
    }
   ],
   "source": [
    "print(df[[\"created_year\", \"created_month\"]].head(20))"
   ]
  },
  {
   "cell_type": "markdown",
   "id": "850eaa95-0e4b-4d6a-9146-f3357ca5e895",
   "metadata": {},
   "source": [
    "### Convert created_year fom Float to Integer"
   ]
  },
  {
   "cell_type": "code",
   "execution_count": 58,
   "id": "df047387-5ec4-4515-9ce7-589e8828f7a3",
   "metadata": {},
   "outputs": [],
   "source": [
    "df[\"created_year\"] = df[\"created_year\"].astype(\"Int64\")  # Converts to integer format"
   ]
  },
  {
   "cell_type": "markdown",
   "id": "c566e2e1-f4ec-470a-8775-8887e6320187",
   "metadata": {},
   "source": [
    "### Convert created_month to Numeric Format"
   ]
  },
  {
   "cell_type": "code",
   "execution_count": 61,
   "id": "c3d773d4-d887-42bf-8d40-26352623d851",
   "metadata": {},
   "outputs": [],
   "source": [
    "month_mapping = {\n",
    "    \"Jan\": \"01\", \"Feb\": \"02\", \"Mar\": \"03\", \"Apr\": \"04\", \"May\": \"05\", \"Jun\": \"06\",\n",
    "    \"Jul\": \"07\", \"Aug\": \"08\", \"Sep\": \"09\", \"Oct\": \"10\", \"Nov\": \"11\", \"Dec\": \"12\"\n",
    "}\n",
    "\n",
    "df[\"created_month\"] = df[\"created_month\"].replace(month_mapping)"
   ]
  },
  {
   "cell_type": "markdown",
   "id": "31ebae88-4850-46c2-beb0-660b565f52e0",
   "metadata": {},
   "source": [
    "# Reconstruct created_date Properly"
   ]
  },
  {
   "cell_type": "code",
   "execution_count": 63,
   "id": "9b46ae56-8ca9-42be-ac59-1105e49a5190",
   "metadata": {},
   "outputs": [],
   "source": [
    "df[\"created_date_fixed\"] = pd.to_datetime(\n",
    "    df[\"created_year\"].astype(str) + \"-\" + df[\"created_month\"].astype(str) + \"-01\",\n",
    "    format=\"%Y-%m-%d\",\n",
    "    errors=\"coerce\"\n",
    ")"
   ]
  },
  {
   "cell_type": "markdown",
   "id": "add89d80-7ed1-4075-a0c6-a214622491c2",
   "metadata": {},
   "source": [
    "## Check if created_date_fixed contains valid dates"
   ]
  },
  {
   "cell_type": "code",
   "execution_count": 65,
   "id": "8b7046a2-c3e5-4ced-8d64-1d23cb9ddc01",
   "metadata": {},
   "outputs": [
    {
     "name": "stdout",
     "output_type": "stream",
     "text": [
      "  created_date_fixed\n",
      "0         2006-03-01\n",
      "1         2006-03-01\n",
      "2         2012-02-01\n",
      "3         2006-09-01\n",
      "4         2006-09-01\n"
     ]
    }
   ],
   "source": [
    "print(df[[\"created_date_fixed\"]].head())"
   ]
  },
  {
   "cell_type": "code",
   "execution_count": 69,
   "id": "0f3a3e7b-df11-4e32-9e8a-dffa4a6ca479",
   "metadata": {},
   "outputs": [
    {
     "name": "stdout",
     "output_type": "stream",
     "text": [
      "  created_date\n",
      "0   2006-03-01\n",
      "1   2006-03-01\n",
      "2   2012-02-01\n",
      "3   2006-09-01\n",
      "4   2006-09-01\n",
      "<class 'pandas.core.frame.DataFrame'>\n",
      "RangeIndex: 995 entries, 0 to 994\n",
      "Data columns (total 28 columns):\n",
      " #   Column                                   Non-Null Count  Dtype         \n",
      "---  ------                                   --------------  -----         \n",
      " 0   rank                                     995 non-null    int64         \n",
      " 1   Youtuber                                 995 non-null    object        \n",
      " 2   subscribers                              995 non-null    int64         \n",
      " 3   video views                              995 non-null    float64       \n",
      " 4   category                                 995 non-null    object        \n",
      " 5   Title                                    995 non-null    object        \n",
      " 6   uploads                                  995 non-null    int64         \n",
      " 7   Country                                  995 non-null    object        \n",
      " 8   Abbreviation                             873 non-null    object        \n",
      " 9   channel_type                             965 non-null    object        \n",
      " 10  video_views_rank                         994 non-null    float64       \n",
      " 11  country_rank                             879 non-null    float64       \n",
      " 12  channel_type_rank                        962 non-null    float64       \n",
      " 13  video_views_for_the_last_30_days         939 non-null    float64       \n",
      " 14  lowest_monthly_earnings                  995 non-null    float64       \n",
      " 15  highest_monthly_earnings                 995 non-null    float64       \n",
      " 16  lowest_yearly_earnings                   995 non-null    float64       \n",
      " 17  highest_yearly_earnings                  995 non-null    float64       \n",
      " 18  subscribers_for_last_30_days             658 non-null    float64       \n",
      " 19  created_year                             990 non-null    Int64         \n",
      " 20  created_month                            990 non-null    object        \n",
      " 21  Gross tertiary education enrollment (%)  872 non-null    float64       \n",
      " 22  Population                               872 non-null    float64       \n",
      " 23  Unemployment rate                        872 non-null    float64       \n",
      " 24  Urban_population                         872 non-null    float64       \n",
      " 25  Latitude                                 872 non-null    float64       \n",
      " 26  Longitude                                872 non-null    float64       \n",
      " 27  created_date                             990 non-null    datetime64[ns]\n",
      "dtypes: Int64(1), datetime64[ns](1), float64(16), int64(3), object(7)\n",
      "memory usage: 218.8+ KB\n",
      "None\n"
     ]
    }
   ],
   "source": [
    "### Since created_date_fixed is now accurate, let’s finalize the cleanup:\n",
    "# ✔ Drop the old incorrect created_date column\n",
    "df.drop(columns=[\"created_date\"], inplace=True)\n",
    "\n",
    "\n",
    "# ✔ Rename created_date_fixed to created_date for consistency\n",
    "df.rename(columns={\"created_date_fixed\": \"created_date\"}, inplace=True)\n",
    "\n",
    "\n",
    "# ✔ Verify the final date format\n",
    "print(df[[\"created_date\"]].head())\n",
    "print(df.info())  # Ensure `created_date` is now in datetime format"
   ]
  },
  {
   "cell_type": "markdown",
   "id": "36ea1b6a-0160-4d9f-b9b6-980c1b34fbbc",
   "metadata": {},
   "source": [
    "### Check for Duplicate Entries"
   ]
  },
  {
   "cell_type": "code",
   "execution_count": 5,
   "id": "9ae680d2-83cd-4173-b4e3-d122277d0d13",
   "metadata": {},
   "outputs": [
    {
     "name": "stdout",
     "output_type": "stream",
     "text": [
      "0\n"
     ]
    }
   ],
   "source": [
    "print(df.duplicated().sum())  # Total number of duplicate rows"
   ]
  },
  {
   "cell_type": "code",
   "execution_count": null,
   "id": "0b75433d-7c3f-41f5-ad08-2c95716e8dde",
   "metadata": {},
   "outputs": [],
   "source": []
  },
  {
   "cell_type": "code",
   "execution_count": null,
   "id": "8c009ece-5f2d-4f9a-a703-d08c16936f29",
   "metadata": {},
   "outputs": [],
   "source": []
  },
  {
   "cell_type": "code",
   "execution_count": null,
   "id": "d3e0c051-b389-4fc7-917e-8834657fc22f",
   "metadata": {},
   "outputs": [],
   "source": []
  },
  {
   "cell_type": "code",
   "execution_count": null,
   "id": "fa8a7094-2595-4b44-b3d6-90b156ccc3de",
   "metadata": {},
   "outputs": [],
   "source": []
  },
  {
   "cell_type": "code",
   "execution_count": null,
   "id": "a67fe879-0418-484d-8122-f07052a60fe7",
   "metadata": {},
   "outputs": [],
   "source": []
  },
  {
   "cell_type": "code",
   "execution_count": null,
   "id": "ca38f8d7-2bee-44d2-92ff-52972d464d03",
   "metadata": {},
   "outputs": [],
   "source": []
  },
  {
   "cell_type": "code",
   "execution_count": null,
   "id": "090e295a-43ea-4589-bb23-011985c9c441",
   "metadata": {},
   "outputs": [],
   "source": []
  },
  {
   "cell_type": "code",
   "execution_count": null,
   "id": "50184788-19c3-48d3-8ee2-17f3b6ba541a",
   "metadata": {},
   "outputs": [],
   "source": []
  },
  {
   "cell_type": "code",
   "execution_count": null,
   "id": "e635eff5-ed6b-4e1c-9b31-c4bb5ca7d238",
   "metadata": {},
   "outputs": [],
   "source": []
  },
  {
   "cell_type": "code",
   "execution_count": null,
   "id": "c4b70ee5-cb09-4c59-af74-04fc9ac4154f",
   "metadata": {},
   "outputs": [],
   "source": []
  },
  {
   "cell_type": "code",
   "execution_count": null,
   "id": "a5c1fd3e-54bc-4bff-8202-111b2357d5b7",
   "metadata": {},
   "outputs": [],
   "source": []
  }
 ],
 "metadata": {
  "kernelspec": {
   "display_name": "Python [conda env:base] *",
   "language": "python",
   "name": "conda-base-py"
  },
  "language_info": {
   "codemirror_mode": {
    "name": "ipython",
    "version": 3
   },
   "file_extension": ".py",
   "mimetype": "text/x-python",
   "name": "python",
   "nbconvert_exporter": "python",
   "pygments_lexer": "ipython3",
   "version": "3.12.7"
  }
 },
 "nbformat": 4,
 "nbformat_minor": 5
}
